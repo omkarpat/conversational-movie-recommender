{
  "nbformat": 4,
  "nbformat_minor": 0,
  "metadata": {
    "colab": {
      "name": "Baseline.ipynb",
      "provenance": [],
      "authorship_tag": "ABX9TyOj1RBZv/3sRk99DrTeF8hJ",
      "include_colab_link": true
    },
    "kernelspec": {
      "name": "python3",
      "display_name": "Python 3"
    }
  },
  "cells": [
    {
      "cell_type": "markdown",
      "metadata": {
        "id": "view-in-github",
        "colab_type": "text"
      },
      "source": [
        "<a href=\"https://colab.research.google.com/github/omkarpat/conversational-movie-recommender/blob/main/Baseline.ipynb\" target=\"_parent\"><img src=\"https://colab.research.google.com/assets/colab-badge.svg\" alt=\"Open In Colab\"/></a>"
      ]
    },
    {
      "cell_type": "code",
      "metadata": {
        "id": "iJBolDgApxOH",
        "outputId": "4c2a2bc7-fd59-4f9c-bb09-d961f78051ee",
        "colab": {
          "base_uri": "https://localhost:8080/"
        }
      },
      "source": [
        "# Colab settings/mount\n",
        "from google.colab import drive\n",
        "drive.mount('/content/gdrive')\n",
        "%cd gdrive/My\\ Drive/Courses/CSE243/Baseline\n",
        "#%cd Baseline/"
      ],
      "execution_count": null,
      "outputs": [
        {
          "output_type": "stream",
          "text": [
            "Mounted at /content/gdrive\n",
            "/content/gdrive/.shortcut-targets-by-id/1vjVd4Rk4nmCTqyygyyGCj589eDwzuLUI/CSE243/Baseline\n"
          ],
          "name": "stdout"
        }
      ]
    },
    {
      "cell_type": "code",
      "metadata": {
        "id": "4ps0fKGsqzWx",
        "outputId": "0434e97b-db5b-44dd-c975-8eafeb596392",
        "colab": {
          "base_uri": "https://localhost:8080/"
        }
      },
      "source": [
        "!ls"
      ],
      "execution_count": null,
      "outputs": [
        {
          "output_type": "stream",
          "text": [
            "batch_loaders\t       movielens\t sequence_generator.py\n",
            "beam_search.py\t       __pycache__\t test_params.py\n",
            "config.py\t       README.md\t train_autorec.py\n",
            "generate_responses.py  redial\t\t train_recommender.py\n",
            "ml-latest.zip\t       requirements.txt  train_sentiment_analysis.py\n",
            "models\t\t       scripts\t\t utils.py\n"
          ],
          "name": "stdout"
        }
      ]
    },
    {
      "cell_type": "code",
      "metadata": {
        "id": "VwIS7j3Hq1xj",
        "outputId": "fcdc5e0c-92f7-481e-ae46-2647a9dc376f",
        "colab": {
          "base_uri": "https://localhost:8080/"
        }
      },
      "source": [
        "!pip3 install -r requirements.txt\n",
        "!python3 -m nltk.downloader punkt"
      ],
      "execution_count": null,
      "outputs": [
        {
          "output_type": "stream",
          "text": [
            "Requirement already satisfied: scikit-learn in /usr/local/lib/python3.6/dist-packages (from -r requirements.txt (line 1)) (0.22.2.post1)\n",
            "Collecting torch==0.4.1\n",
            "\u001b[?25l  Downloading https://files.pythonhosted.org/packages/49/0e/e382bcf1a6ae8225f50b99cc26effa2d4cc6d66975ccf3fa9590efcbedce/torch-0.4.1-cp36-cp36m-manylinux1_x86_64.whl (519.5MB)\n",
            "\u001b[K     |████████████████████████████████| 519.5MB 29kB/s \n",
            "\u001b[?25hRequirement already satisfied: tqdm in /usr/local/lib/python3.6/dist-packages (from -r requirements.txt (line 3)) (4.41.1)\n",
            "Requirement already satisfied: nltk in /usr/local/lib/python3.6/dist-packages (from -r requirements.txt (line 4)) (3.2.5)\n",
            "Requirement already satisfied: h5py in /usr/local/lib/python3.6/dist-packages (from -r requirements.txt (line 5)) (2.10.0)\n",
            "Requirement already satisfied: numpy in /usr/local/lib/python3.6/dist-packages (from -r requirements.txt (line 6)) (1.18.5)\n",
            "Requirement already satisfied: scipy>=0.17.0 in /usr/local/lib/python3.6/dist-packages (from scikit-learn->-r requirements.txt (line 1)) (1.4.1)\n",
            "Requirement already satisfied: joblib>=0.11 in /usr/local/lib/python3.6/dist-packages (from scikit-learn->-r requirements.txt (line 1)) (0.17.0)\n",
            "Requirement already satisfied: six in /usr/local/lib/python3.6/dist-packages (from nltk->-r requirements.txt (line 4)) (1.15.0)\n",
            "\u001b[31mERROR: torchvision 0.7.0+cu101 has requirement torch==1.6.0, but you'll have torch 0.4.1 which is incompatible.\u001b[0m\n",
            "\u001b[31mERROR: fastai 1.0.61 has requirement torch>=1.0.0, but you'll have torch 0.4.1 which is incompatible.\u001b[0m\n",
            "Installing collected packages: torch\n",
            "  Found existing installation: torch 1.6.0+cu101\n",
            "    Uninstalling torch-1.6.0+cu101:\n",
            "      Successfully uninstalled torch-1.6.0+cu101\n",
            "Successfully installed torch-0.4.1\n",
            "/usr/lib/python3.6/runpy.py:125: RuntimeWarning: 'nltk.downloader' found in sys.modules after import of package 'nltk', but prior to execution of 'nltk.downloader'; this may result in unpredictable behaviour\n",
            "  warn(RuntimeWarning(msg))\n",
            "[nltk_data] Downloading package punkt to /root/nltk_data...\n",
            "[nltk_data]   Unzipping tokenizers/punkt.zip.\n"
          ],
          "name": "stdout"
        }
      ]
    },
    {
      "cell_type": "code",
      "metadata": {
        "id": "hG9X_-5KrCcy",
        "outputId": "6e6945a8-84aa-4c9b-911a-490e1768fa16",
        "colab": {
          "base_uri": "https://localhost:8080/"
        }
      },
      "source": [
        "!wget -O redial/redial_dataset.zip https://github.com/ReDialData/website/raw/data/redial_dataset.zip\n",
        "!wget -O movielens/ml-latest.zip http://files.grouplens.org/datasets/movielens/ml-latest.zip\n",
        "# split ReDial data\n",
        "!python3 scripts/split-redial.py redial/\n",
        "!mv redial/test_data.jsonl redial/test_data\n",
        "# split Movielens data\n",
        "!python3 scripts/split-movielens.py movielens/"
      ],
      "execution_count": null,
      "outputs": [
        {
          "output_type": "stream",
          "text": [
            "--2020-11-03 20:07:40--  https://github.com/ReDialData/website/raw/data/redial_dataset.zip\n",
            "Resolving github.com (github.com)... 140.82.114.4\n",
            "Connecting to github.com (github.com)|140.82.114.4|:443... connected.\n",
            "HTTP request sent, awaiting response... 302 Found\n",
            "Location: https://raw.githubusercontent.com/ReDialData/website/data/redial_dataset.zip [following]\n",
            "--2020-11-03 20:07:40--  https://raw.githubusercontent.com/ReDialData/website/data/redial_dataset.zip\n",
            "Resolving raw.githubusercontent.com (raw.githubusercontent.com)... 151.101.0.133, 151.101.64.133, 151.101.128.133, ...\n",
            "Connecting to raw.githubusercontent.com (raw.githubusercontent.com)|151.101.0.133|:443... connected.\n",
            "HTTP request sent, awaiting response... 200 OK\n",
            "Length: 5765261 (5.5M) [application/zip]\n",
            "Saving to: ‘redial/redial_dataset.zip’\n",
            "\n",
            "redial/redial_datas 100%[===================>]   5.50M  --.-KB/s    in 0.1s    \n",
            "\n",
            "2020-11-03 20:07:40 (55.2 MB/s) - ‘redial/redial_dataset.zip’ saved [5765261/5765261]\n",
            "\n",
            "--2020-11-03 20:07:40--  http://files.grouplens.org/datasets/movielens/ml-latest.zip\n",
            "Resolving files.grouplens.org (files.grouplens.org)... 128.101.65.152\n",
            "Connecting to files.grouplens.org (files.grouplens.org)|128.101.65.152|:80... connected.\n",
            "HTTP request sent, awaiting response... 200 OK\n",
            "Length: 277113433 (264M) [application/zip]\n",
            "Saving to: ‘movielens/ml-latest.zip’\n",
            "\n",
            "movielens/ml-latest 100%[===================>] 264.28M  84.8MB/s    in 3.3s    \n",
            "\n",
            "2020-11-03 20:07:44 (81.2 MB/s) - ‘movielens/ml-latest.zip’ saved [277113433/277113433]\n",
            "\n"
          ],
          "name": "stdout"
        }
      ]
    },
    {
      "cell_type": "code",
      "metadata": {
        "id": "RiwIkqyAs7dF",
        "outputId": "ac827b6e-be60-43f2-c365-c744890029cb",
        "colab": {
          "base_uri": "https://localhost:8080/"
        }
      },
      "source": [
        "!python scripts/match_movies.py --redial_movies_path=redial/movies_with_mentions.csv --ml_movies_path=movielens/ml-latest/movies.csv --destination=redial/movies_merged.csv"
      ],
      "execution_count": null,
      "outputs": [
        {
          "output_type": "stream",
          "text": [
            "loaded 58098 movies from movielens/ml-latest/movies.csv\n",
            "loaded 6924 movies from redial/movies_with_mentions.csv\n",
            "100% 6924/6924 [01:36<00:00, 72.06it/s]\n",
            "Over 6924 movies mentioned in ReDial, 5178 of them are perfectly matched, 1746 of them have no match in movielens\n"
          ],
          "name": "stdout"
        }
      ]
    },
    {
      "cell_type": "code",
      "metadata": {
        "id": "BMOgdeq_tpr7",
        "outputId": "6c3bdc87-73b7-494c-dafe-e5683cbf569d",
        "colab": {
          "base_uri": "https://localhost:8080/"
        }
      },
      "source": [
        "%cd models/\n",
        "!mkdir GenSen embeddings\n",
        "!wget -O GenSen/nli_large_vocab.pkl https://genseniclr2018.blob.core.windows.net/models/nli_large_vocab.pkl\n",
        "!wget -O GenSen/nli_large.model https://genseniclr2018.blob.core.windows.net/models/nli_large.model\n",
        "%cd embeddings\n",
        "!wget https://raw.githubusercontent.com/Maluuba/gensen/master/data/embedding/glove2h5.py\n",
        "!wget https://github.com/Maluuba/gensen/raw/master/data/embedding/glove2h5.sh\n",
        "!sh glove2h5.sh\n",
        "% cd .."
      ],
      "execution_count": null,
      "outputs": [
        {
          "output_type": "stream",
          "text": [
            "/content/gdrive/.shortcut-targets-by-id/1vjVd4Rk4nmCTqyygyyGCj589eDwzuLUI/CSE243/Baseline/models\n",
            "mkdir: cannot create directory ‘GenSen’: File exists\n",
            "mkdir: cannot create directory ‘embeddings’: File exists\n",
            "--2020-11-04 03:50:51--  https://genseniclr2018.blob.core.windows.net/models/nli_large_vocab.pkl\n",
            "Resolving genseniclr2018.blob.core.windows.net (genseniclr2018.blob.core.windows.net)... 52.239.154.100\n",
            "Connecting to genseniclr2018.blob.core.windows.net (genseniclr2018.blob.core.windows.net)|52.239.154.100|:443... connected.\n",
            "HTTP request sent, awaiting response... 200 OK\n",
            "Length: 3270098 (3.1M) [application/octet-stream]\n",
            "Saving to: ‘GenSen/nli_large_vocab.pkl’\n",
            "\n",
            "GenSen/nli_large_vo 100%[===================>]   3.12M  15.9MB/s    in 0.2s    \n",
            "\n",
            "2020-11-04 03:50:51 (15.9 MB/s) - ‘GenSen/nli_large_vocab.pkl’ saved [3270098/3270098]\n",
            "\n",
            "--2020-11-04 03:50:52--  https://genseniclr2018.blob.core.windows.net/models/nli_large.model\n",
            "Resolving genseniclr2018.blob.core.windows.net (genseniclr2018.blob.core.windows.net)... 52.239.154.100\n",
            "Connecting to genseniclr2018.blob.core.windows.net (genseniclr2018.blob.core.windows.net)|52.239.154.100|:443... connected.\n",
            "HTTP request sent, awaiting response... 200 OK\n",
            "Length: 201647369 (192M) [application/octet-stream]\n",
            "Saving to: ‘GenSen/nli_large.model’\n",
            "\n",
            "GenSen/nli_large.mo 100%[===================>] 192.31M  65.7MB/s    in 2.9s    \n",
            "\n",
            "2020-11-04 03:50:55 (65.7 MB/s) - ‘GenSen/nli_large.model’ saved [201647369/201647369]\n",
            "\n",
            "/content/gdrive/.shortcut-targets-by-id/1vjVd4Rk4nmCTqyygyyGCj589eDwzuLUI/CSE243/Baseline/models/embeddings\n",
            "--2020-11-04 03:50:56--  https://raw.githubusercontent.com/Maluuba/gensen/master/data/embedding/glove2h5.py\n",
            "Resolving raw.githubusercontent.com (raw.githubusercontent.com)... 151.101.0.133, 151.101.64.133, 151.101.128.133, ...\n",
            "Connecting to raw.githubusercontent.com (raw.githubusercontent.com)|151.101.0.133|:443... connected.\n",
            "HTTP request sent, awaiting response... 200 OK\n",
            "Length: 507 [text/plain]\n",
            "Saving to: ‘glove2h5.py.2’\n",
            "\n",
            "glove2h5.py.2       100%[===================>]     507  --.-KB/s    in 0s      \n",
            "\n",
            "2020-11-04 03:50:56 (12.5 MB/s) - ‘glove2h5.py.2’ saved [507/507]\n",
            "\n",
            "--2020-11-04 03:50:56--  https://github.com/Maluuba/gensen/raw/master/data/embedding/glove2h5.sh\n",
            "Resolving github.com (github.com)... 140.82.114.4\n",
            "Connecting to github.com (github.com)|140.82.114.4|:443... connected.\n",
            "HTTP request sent, awaiting response... 302 Found\n",
            "Location: https://raw.githubusercontent.com/Maluuba/gensen/master/data/embedding/glove2h5.sh [following]\n",
            "--2020-11-04 03:50:56--  https://raw.githubusercontent.com/Maluuba/gensen/master/data/embedding/glove2h5.sh\n",
            "Resolving raw.githubusercontent.com (raw.githubusercontent.com)... 151.101.0.133, 151.101.64.133, 151.101.128.133, ...\n",
            "Connecting to raw.githubusercontent.com (raw.githubusercontent.com)|151.101.0.133|:443... connected.\n",
            "HTTP request sent, awaiting response... 200 OK\n",
            "Length: 127 [text/plain]\n",
            "Saving to: ‘glove2h5.sh.2’\n",
            "\n",
            "glove2h5.sh.2       100%[===================>]     127  --.-KB/s    in 0s      \n",
            "\n",
            "2020-11-04 03:50:56 (3.66 MB/s) - ‘glove2h5.sh.2’ saved [127/127]\n",
            "\n",
            "  % Total    % Received % Xferd  Average Speed   Time    Time     Time  Current\n",
            "                                 Dload  Upload   Total   Spent    Left  Speed\n",
            "  0   315    0     0    0     0      0      0 --:--:-- --:--:-- --:--:--     0\n",
            "  0   352    0     0    0     0      0      0 --:--:-- --:--:-- --:--:--     0\n",
            "100 2075M  100 2075M    0     0  2089k      0  0:16:57  0:16:57 --:--:-- 1983k\n",
            "Archive:  glove.840B.300d.zip\n",
            "replace glove.840B.300d.txt? [y]es, [n]o, [A]ll, [N]one, [r]ename: n\n",
            "Killed\n",
            "/content/gdrive/.shortcut-targets-by-id/1vjVd4Rk4nmCTqyygyyGCj589eDwzuLUI/CSE243/Baseline/models\n"
          ],
          "name": "stdout"
        }
      ]
    },
    {
      "cell_type": "code",
      "metadata": {
        "id": "DvweZMz4Sx1b",
        "outputId": "214249ee-c0b4-4367-96c6-f91f45b1cb59",
        "colab": {
          "base_uri": "https://localhost:8080/"
        }
      },
      "source": [
        "cd ../.."
      ],
      "execution_count": null,
      "outputs": [
        {
          "output_type": "stream",
          "text": [
            "/content/gdrive/.shortcut-targets-by-id/1vjVd4Rk4nmCTqyygyyGCj589eDwzuLUI/CSE243/Baseline\n"
          ],
          "name": "stdout"
        }
      ]
    },
    {
      "cell_type": "code",
      "metadata": {
        "id": "UfbpUU-iiVEL",
        "outputId": "4164ec7f-4971-4475-8b54-1420ded31aff",
        "colab": {
          "base_uri": "https://localhost:8080/"
        }
      },
      "source": [
        "!python train_sentiment_analysis.py"
      ],
      "execution_count": null,
      "outputs": [
        {
          "output_type": "stream",
          "text": [
            "Saving in models/sentiment_analysis with parameters : {'hrnn_params': {'use_movie_occurrences': 'word', 'sentence_encoder_hidden_size': 512, 'conversation_encoder_hidden_size': 512, 'sentence_encoder_num_layers': 2, 'conversation_encoder_num_layers': 2, 'use_dropout': 0.4}}, {'learning_rate': 0.001, 'batch_size': 16, 'nb_epochs': 50, 'patience': 5, 'weight_decay': 0, 'use_class_weights': True, 'cut_dialogues': -1, 'targets': 'suggested seen liked'}\n",
            "loaded 59946 movies from redial/movies_merged.csv\n",
            "6924 movies\n",
            "Loading and processing data\n",
            "Loading vocabulary from redial/vocabulary.p\n",
            "Traceback (most recent call last):\n",
            "  File \"train_sentiment_analysis.py\", line 261, in <module>\n",
            "    explore_params(params_seq, baseline=False)\n",
            "  File \"train_sentiment_analysis.py\", line 194, in explore_params\n",
            "    batch_size=train_params['batch_size']\n",
            "  File \"/content/gdrive/.shortcut-targets-by-id/1vjVd4Rk4nmCTqyygyyGCj589eDwzuLUI/CSE243/Baseline/batch_loaders/batch_loader.py\", line 110, in __init__\n",
            "    self._get_dataset_characteristics()\n",
            "  File \"/content/gdrive/.shortcut-targets-by-id/1vjVd4Rk4nmCTqyygyyGCj589eDwzuLUI/CSE243/Baseline/batch_loaders/batch_loader.py\", line 135, in _get_dataset_characteristics\n",
            "    self.train_vocabulary = self._get_vocabulary()\n",
            "  File \"/content/gdrive/.shortcut-targets-by-id/1vjVd4Rk4nmCTqyygyyGCj589eDwzuLUI/CSE243/Baseline/batch_loaders/batch_loader.py\", line 204, in _get_vocabulary\n",
            "    return pickle.load(open(self.vocab_path))\n",
            "TypeError: a bytes-like object is required, not 'str'\n"
          ],
          "name": "stdout"
        }
      ]
    },
    {
      "cell_type": "code",
      "metadata": {
        "id": "041c5MzVTia8",
        "outputId": "a502b230-056f-42c7-a9c6-7f1e3a1bf049",
        "colab": {
          "base_uri": "https://localhost:8080/"
        }
      },
      "source": [
        "!python train_autorec.py"
      ],
      "execution_count": null,
      "outputs": [
        {
          "output_type": "stream",
          "text": [
            "Saving in models/autorec with parameters : {'layer_sizes': [1000], 'f': 'sigmoid', 'g': 'sigmoid'}, {'learning_rate': 0.001, 'batch_size': 64, 'nb_epochs': 50, 'patience': 5, 'batch_input': 'random_noise', 'max_num_inputs': 10000000000.0}\n",
            "Traceback (most recent call last):\n",
            "  File \"train_autorec.py\", line 204, in <module>\n",
            "    explore_params(params_seq=params, data=\"db_pretrain\")\n",
            "  File \"train_autorec.py\", line 158, in explore_params\n",
            "    ratings01=True\n",
            "  File \"/content/gdrive/.shortcut-targets-by-id/1vjVd4Rk4nmCTqyygyyGCj589eDwzuLUI/CSE243/Baseline/batch_loaders/ml_batch_loader.py\", line 80, in __init__\n",
            "    self.load_data()\n",
            "  File \"/content/gdrive/.shortcut-targets-by-id/1vjVd4Rk4nmCTqyygyyGCj589eDwzuLUI/CSE243/Baseline/batch_loaders/ml_batch_loader.py\", line 88, in load_data\n",
            "    self.n_movies = np.max(self.id2index.values()) + 1\n",
            "TypeError: unsupported operand type(s) for +: 'dict_values' and 'int'\n"
          ],
          "name": "stdout"
        }
      ]
    }
  ]
}